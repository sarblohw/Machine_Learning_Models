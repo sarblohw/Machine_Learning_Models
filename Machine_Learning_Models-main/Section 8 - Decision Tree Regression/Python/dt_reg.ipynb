{
 "cells": [
  {
   "attachments": {},
   "cell_type": "markdown",
   "metadata": {},
   "source": [
    "# Decision Tree Regressor\n",
    "- CART: Classification & Regression Trees  \n",
    "- Example: 2 independent variables X1 and X2. Dependant variable y.\n",
    "- The data is split into different sections and the way the splitting is done is using a concept called entropy.  \n",
    "- The splits are made to add value/information to the data. The splits are made till the time we are able to add information by further splitting the data.  \n",
    "- The splits are the leaves of the decision tree.\n",
    "- "
   ]
  },
  {
   "cell_type": "markdown",
   "metadata": {},
   "source": []
  }
 ],
 "metadata": {
  "kernelspec": {
   "display_name": "Python 3",
   "language": "python",
   "name": "python3"
  },
  "language_info": {
   "name": "python",
   "version": "3.10.7 (main, Nov 24 2022, 19:45:47) [GCC 12.2.0]"
  },
  "orig_nbformat": 4,
  "vscode": {
   "interpreter": {
    "hash": "916dbcbb3f70747c44a77c7bcd40155683ae19c65e1c03b4aa3499c5328201f1"
   }
  }
 },
 "nbformat": 4,
 "nbformat_minor": 2
}
