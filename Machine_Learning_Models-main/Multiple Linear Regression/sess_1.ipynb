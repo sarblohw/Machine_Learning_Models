{
 "cells": [
  {
   "cell_type": "code",
   "execution_count": 1,
   "metadata": {
    "cell_id": "a631bbd496194286a1155fb5ece05e30",
    "deepnote_cell_type": "code",
    "deepnote_to_be_reexecuted": false,
    "execution_millis": 55,
    "execution_start": 1671664826155,
    "source_hash": "871cf182",
    "tags": []
   },
   "outputs": [],
   "source": [
    "import numpy as np\n",
    "import pandas as pd\n",
    "import polars as pl\n",
    "pldf = pl.scan_csv('/work/Users/sammy/Documents/Sammy_DS/Multiple Linear Regression/50_Startups.csv')\n",
    "pddf = pd.read_csv('/work/Users/sammy/Documents/Sammy_DS/Multiple Linear Regression/50_Startups.csv')"
   ]
  },
  {
   "cell_type": "code",
   "execution_count": 2,
   "metadata": {
    "cell_id": "f0ff9ea7ca4a4bb0a50c6afa97ac07cb",
    "deepnote_cell_type": "code",
    "deepnote_to_be_reexecuted": false,
    "execution_millis": 1,
    "execution_start": 1671664826243,
    "source_hash": "43d20601",
    "tags": []
   },
   "outputs": [],
   "source": [
    "pldf = pl.scan_csv('/work/Users/sammy/Documents/Sammy_DS/Multiple Linear Regression/50_Startups.csv')\n",
    "pddf = pd.read_csv('/work/Users/sammy/Documents/Sammy_DS/Multiple Linear Regression/50_Startups.csv')"
   ]
  },
  {
   "cell_type": "code",
   "execution_count": 3,
   "metadata": {
    "cell_id": "103f6274541c40da9038fc2737787894",
    "deepnote_cell_type": "code",
    "deepnote_to_be_reexecuted": false,
    "execution_millis": 5,
    "execution_start": 1671664826244,
    "source_hash": "e8486b6b",
    "tags": []
   },
   "outputs": [
    {
     "data": {
      "text/html": [
       "<div>\n",
       "<style scoped>\n",
       "    .dataframe tbody tr th:only-of-type {\n",
       "        vertical-align: middle;\n",
       "    }\n",
       "\n",
       "    .dataframe tbody tr th {\n",
       "        vertical-align: top;\n",
       "    }\n",
       "\n",
       "    .dataframe thead th {\n",
       "        text-align: right;\n",
       "    }\n",
       "\n",
       "    .dataframe td {\n",
       "        white-space: pre;\n",
       "    }\n",
       "\n",
       "    .dataframe td {\n",
       "        padding-top: 0;\n",
       "    }\n",
       "\n",
       "    .dataframe td {\n",
       "        padding-bottom: 0;\n",
       "    }\n",
       "\n",
       "    .dataframe td {\n",
       "        line-height: 95%;\n",
       "    }\n",
       "</style>\n",
       "<table border=\"1\" class=\"dataframe\">\n",
       "<small>shape: (5, 5)</small>\n",
       "<thead>\n",
       "<tr>\n",
       "<th>\n",
       "R&D Spend\n",
       "</th>\n",
       "<th>\n",
       "Administration\n",
       "</th>\n",
       "<th>\n",
       "Marketing Spend\n",
       "</th>\n",
       "<th>\n",
       "State\n",
       "</th>\n",
       "<th>\n",
       "Profit\n",
       "</th>\n",
       "</tr>\n",
       "<tr>\n",
       "<td>\n",
       "f64\n",
       "</td>\n",
       "<td>\n",
       "f64\n",
       "</td>\n",
       "<td>\n",
       "f64\n",
       "</td>\n",
       "<td>\n",
       "str\n",
       "</td>\n",
       "<td>\n",
       "f64\n",
       "</td>\n",
       "</tr>\n",
       "</thead>\n",
       "<tbody>\n",
       "<tr>\n",
       "<td>\n",
       "165349.2\n",
       "</td>\n",
       "<td>\n",
       "136897.8\n",
       "</td>\n",
       "<td>\n",
       "471784.1\n",
       "</td>\n",
       "<td>\n",
       "&quot;New York&quot;\n",
       "</td>\n",
       "<td>\n",
       "192261.83\n",
       "</td>\n",
       "</tr>\n",
       "<tr>\n",
       "<td>\n",
       "162597.7\n",
       "</td>\n",
       "<td>\n",
       "151377.59\n",
       "</td>\n",
       "<td>\n",
       "443898.53\n",
       "</td>\n",
       "<td>\n",
       "&quot;California&quot;\n",
       "</td>\n",
       "<td>\n",
       "191792.06\n",
       "</td>\n",
       "</tr>\n",
       "<tr>\n",
       "<td>\n",
       "153441.51\n",
       "</td>\n",
       "<td>\n",
       "101145.55\n",
       "</td>\n",
       "<td>\n",
       "407934.54\n",
       "</td>\n",
       "<td>\n",
       "&quot;Florida&quot;\n",
       "</td>\n",
       "<td>\n",
       "191050.39\n",
       "</td>\n",
       "</tr>\n",
       "<tr>\n",
       "<td>\n",
       "144372.41\n",
       "</td>\n",
       "<td>\n",
       "118671.85\n",
       "</td>\n",
       "<td>\n",
       "383199.62\n",
       "</td>\n",
       "<td>\n",
       "&quot;New York&quot;\n",
       "</td>\n",
       "<td>\n",
       "182901.99\n",
       "</td>\n",
       "</tr>\n",
       "<tr>\n",
       "<td>\n",
       "142107.34\n",
       "</td>\n",
       "<td>\n",
       "91391.77\n",
       "</td>\n",
       "<td>\n",
       "366168.42\n",
       "</td>\n",
       "<td>\n",
       "&quot;Florida&quot;\n",
       "</td>\n",
       "<td>\n",
       "166187.94\n",
       "</td>\n",
       "</tr>\n",
       "</tbody>\n",
       "</table>\n",
       "</div>"
      ],
      "text/plain": [
       "shape: (5, 5)\n",
       "┌───────────┬────────────────┬─────────────────┬────────────┬───────────┐\n",
       "│ R&D Spend ┆ Administration ┆ Marketing Spend ┆ State      ┆ Profit    │\n",
       "│ ---       ┆ ---            ┆ ---             ┆ ---        ┆ ---       │\n",
       "│ f64       ┆ f64            ┆ f64             ┆ str        ┆ f64       │\n",
       "╞═══════════╪════════════════╪═════════════════╪════════════╪═══════════╡\n",
       "│ 165349.2  ┆ 136897.8       ┆ 471784.1        ┆ New York   ┆ 192261.83 │\n",
       "├╌╌╌╌╌╌╌╌╌╌╌┼╌╌╌╌╌╌╌╌╌╌╌╌╌╌╌╌┼╌╌╌╌╌╌╌╌╌╌╌╌╌╌╌╌╌┼╌╌╌╌╌╌╌╌╌╌╌╌┼╌╌╌╌╌╌╌╌╌╌╌┤\n",
       "│ 162597.7  ┆ 151377.59      ┆ 443898.53       ┆ California ┆ 191792.06 │\n",
       "├╌╌╌╌╌╌╌╌╌╌╌┼╌╌╌╌╌╌╌╌╌╌╌╌╌╌╌╌┼╌╌╌╌╌╌╌╌╌╌╌╌╌╌╌╌╌┼╌╌╌╌╌╌╌╌╌╌╌╌┼╌╌╌╌╌╌╌╌╌╌╌┤\n",
       "│ 153441.51 ┆ 101145.55      ┆ 407934.54       ┆ Florida    ┆ 191050.39 │\n",
       "├╌╌╌╌╌╌╌╌╌╌╌┼╌╌╌╌╌╌╌╌╌╌╌╌╌╌╌╌┼╌╌╌╌╌╌╌╌╌╌╌╌╌╌╌╌╌┼╌╌╌╌╌╌╌╌╌╌╌╌┼╌╌╌╌╌╌╌╌╌╌╌┤\n",
       "│ 144372.41 ┆ 118671.85      ┆ 383199.62       ┆ New York   ┆ 182901.99 │\n",
       "├╌╌╌╌╌╌╌╌╌╌╌┼╌╌╌╌╌╌╌╌╌╌╌╌╌╌╌╌┼╌╌╌╌╌╌╌╌╌╌╌╌╌╌╌╌╌┼╌╌╌╌╌╌╌╌╌╌╌╌┼╌╌╌╌╌╌╌╌╌╌╌┤\n",
       "│ 142107.34 ┆ 91391.77       ┆ 366168.42       ┆ Florida    ┆ 166187.94 │\n",
       "└───────────┴────────────────┴─────────────────┴────────────┴───────────┘"
      ]
     },
     "execution_count": 3,
     "metadata": {},
     "output_type": "execute_result"
    }
   ],
   "source": [
    "pldf.fetch(5)"
   ]
  },
  {
   "cell_type": "code",
   "execution_count": 4,
   "metadata": {
    "cell_id": "3baf696931294822acf747225a6c5641",
    "deepnote_cell_type": "code",
    "deepnote_to_be_reexecuted": false,
    "execution_millis": 3,
    "execution_start": 1671664826250,
    "source_hash": "ecabde38",
    "tags": []
   },
   "outputs": [],
   "source": [
    "y = pldf.select(pl.col('Profit'))"
   ]
  },
  {
   "cell_type": "code",
   "execution_count": 5,
   "metadata": {
    "cell_id": "13d39c1b76a144fea3b57b1b63996179",
    "deepnote_cell_type": "code",
    "deepnote_to_be_reexecuted": false,
    "execution_millis": 8,
    "execution_start": 1671664826283,
    "source_hash": "ddf7e0a0",
    "tags": []
   },
   "outputs": [
    {
     "data": {
      "text/plain": [
       "{'R&D Spend': polars.datatypes.Float64,\n",
       " 'Administration': polars.datatypes.Float64,\n",
       " 'Marketing Spend': polars.datatypes.Float64,\n",
       " 'State': polars.datatypes.Utf8,\n",
       " 'Profit': polars.datatypes.Float64}"
      ]
     },
     "execution_count": 5,
     "metadata": {},
     "output_type": "execute_result"
    }
   ],
   "source": [
    "pldf.schema"
   ]
  },
  {
   "cell_type": "code",
   "execution_count": 6,
   "metadata": {
    "cell_id": "b701a09bc0904ad1a8c80510aa4c254a",
    "deepnote_cell_type": "code",
    "deepnote_to_be_reexecuted": false,
    "execution_millis": 4,
    "execution_start": 1671664826293,
    "source_hash": "2f3669ec",
    "tags": []
   },
   "outputs": [],
   "source": [
    "X = pldf.select(pl.exclude('Profit'))"
   ]
  },
  {
   "cell_type": "code",
   "execution_count": 7,
   "metadata": {
    "cell_id": "38ea2303200b4d7298f13c1117e7fda8",
    "deepnote_cell_type": "code",
    "deepnote_to_be_reexecuted": false,
    "execution_millis": 2,
    "execution_start": 1671664826342,
    "source_hash": "b5096c16",
    "tags": []
   },
   "outputs": [
    {
     "data": {
      "text/html": [
       "<div>\n",
       "<style scoped>\n",
       "    .dataframe tbody tr th:only-of-type {\n",
       "        vertical-align: middle;\n",
       "    }\n",
       "\n",
       "    .dataframe tbody tr th {\n",
       "        vertical-align: top;\n",
       "    }\n",
       "\n",
       "    .dataframe thead th {\n",
       "        text-align: right;\n",
       "    }\n",
       "\n",
       "    .dataframe td {\n",
       "        white-space: pre;\n",
       "    }\n",
       "\n",
       "    .dataframe td {\n",
       "        padding-top: 0;\n",
       "    }\n",
       "\n",
       "    .dataframe td {\n",
       "        padding-bottom: 0;\n",
       "    }\n",
       "\n",
       "    .dataframe td {\n",
       "        line-height: 95%;\n",
       "    }\n",
       "</style>\n",
       "<table border=\"1\" class=\"dataframe\">\n",
       "<small>shape: (3, 4)</small>\n",
       "<thead>\n",
       "<tr>\n",
       "<th>\n",
       "R&D Spend\n",
       "</th>\n",
       "<th>\n",
       "Administration\n",
       "</th>\n",
       "<th>\n",
       "Marketing Spend\n",
       "</th>\n",
       "<th>\n",
       "State\n",
       "</th>\n",
       "</tr>\n",
       "<tr>\n",
       "<td>\n",
       "f64\n",
       "</td>\n",
       "<td>\n",
       "f64\n",
       "</td>\n",
       "<td>\n",
       "f64\n",
       "</td>\n",
       "<td>\n",
       "str\n",
       "</td>\n",
       "</tr>\n",
       "</thead>\n",
       "<tbody>\n",
       "<tr>\n",
       "<td>\n",
       "165349.2\n",
       "</td>\n",
       "<td>\n",
       "136897.8\n",
       "</td>\n",
       "<td>\n",
       "471784.1\n",
       "</td>\n",
       "<td>\n",
       "&quot;New York&quot;\n",
       "</td>\n",
       "</tr>\n",
       "<tr>\n",
       "<td>\n",
       "162597.7\n",
       "</td>\n",
       "<td>\n",
       "151377.59\n",
       "</td>\n",
       "<td>\n",
       "443898.53\n",
       "</td>\n",
       "<td>\n",
       "&quot;California&quot;\n",
       "</td>\n",
       "</tr>\n",
       "<tr>\n",
       "<td>\n",
       "153441.51\n",
       "</td>\n",
       "<td>\n",
       "101145.55\n",
       "</td>\n",
       "<td>\n",
       "407934.54\n",
       "</td>\n",
       "<td>\n",
       "&quot;Florida&quot;\n",
       "</td>\n",
       "</tr>\n",
       "</tbody>\n",
       "</table>\n",
       "</div>"
      ],
      "text/plain": [
       "shape: (3, 4)\n",
       "┌───────────┬────────────────┬─────────────────┬────────────┐\n",
       "│ R&D Spend ┆ Administration ┆ Marketing Spend ┆ State      │\n",
       "│ ---       ┆ ---            ┆ ---             ┆ ---        │\n",
       "│ f64       ┆ f64            ┆ f64             ┆ str        │\n",
       "╞═══════════╪════════════════╪═════════════════╪════════════╡\n",
       "│ 165349.2  ┆ 136897.8       ┆ 471784.1        ┆ New York   │\n",
       "├╌╌╌╌╌╌╌╌╌╌╌┼╌╌╌╌╌╌╌╌╌╌╌╌╌╌╌╌┼╌╌╌╌╌╌╌╌╌╌╌╌╌╌╌╌╌┼╌╌╌╌╌╌╌╌╌╌╌╌┤\n",
       "│ 162597.7  ┆ 151377.59      ┆ 443898.53       ┆ California │\n",
       "├╌╌╌╌╌╌╌╌╌╌╌┼╌╌╌╌╌╌╌╌╌╌╌╌╌╌╌╌┼╌╌╌╌╌╌╌╌╌╌╌╌╌╌╌╌╌┼╌╌╌╌╌╌╌╌╌╌╌╌┤\n",
       "│ 153441.51 ┆ 101145.55      ┆ 407934.54       ┆ Florida    │\n",
       "└───────────┴────────────────┴─────────────────┴────────────┘"
      ]
     },
     "execution_count": 7,
     "metadata": {},
     "output_type": "execute_result"
    }
   ],
   "source": [
    "X.fetch(3)"
   ]
  },
  {
   "cell_type": "code",
   "execution_count": 8,
   "metadata": {
    "cell_id": "4c742658d4b24b45bfb1fcdc6734ecc8",
    "deepnote_cell_type": "code",
    "deepnote_to_be_reexecuted": false,
    "execution_millis": 1227,
    "execution_start": 1671664826343,
    "source_hash": "aa7c6dde",
    "tags": []
   },
   "outputs": [],
   "source": [
    "X = np.array(X.collect().to_pandas())\n",
    "y = np.array(y.collect().to_pandas())\n",
    "\n",
    "from sklearn.compose import ColumnTransformer\n",
    "from sklearn.preprocessing import OneHotEncoder\n",
    "\n",
    "transformer = ColumnTransformer([('encoder', OneHotEncoder(), [-1])], remainder = 'passthrough')\n",
    "transformer.fit(X)\n",
    "X = transformer.transform(X)"
   ]
  },
  {
   "cell_type": "code",
   "execution_count": 9,
   "metadata": {
    "cell_id": "d8da62702c57444d8098dcd88a386fac",
    "deepnote_cell_type": "code",
    "deepnote_to_be_reexecuted": false,
    "execution_millis": 9,
    "execution_start": 1671664827575,
    "source_hash": "b2696ff6",
    "tags": []
   },
   "outputs": [
    {
     "data": {
      "text/plain": [
       "array([[0.0, 0.0, 1.0, 165349.2, 136897.8, 471784.1],\n",
       "       [1.0, 0.0, 0.0, 162597.7, 151377.59, 443898.53],\n",
       "       [0.0, 1.0, 0.0, 153441.51, 101145.55, 407934.54],\n",
       "       [0.0, 0.0, 1.0, 144372.41, 118671.85, 383199.62],\n",
       "       [0.0, 1.0, 0.0, 142107.34, 91391.77, 366168.42],\n",
       "       [0.0, 0.0, 1.0, 131876.9, 99814.71, 362861.36],\n",
       "       [1.0, 0.0, 0.0, 134615.46, 147198.87, 127716.82],\n",
       "       [0.0, 1.0, 0.0, 130298.13, 145530.06, 323876.68],\n",
       "       [0.0, 0.0, 1.0, 120542.52, 148718.95, 311613.29],\n",
       "       [1.0, 0.0, 0.0, 123334.88, 108679.17, 304981.62],\n",
       "       [0.0, 1.0, 0.0, 101913.08, 110594.11, 229160.95],\n",
       "       [1.0, 0.0, 0.0, 100671.96, 91790.61, 249744.55],\n",
       "       [0.0, 1.0, 0.0, 93863.75, 127320.38, 249839.44],\n",
       "       [1.0, 0.0, 0.0, 91992.39, 135495.07, 252664.93],\n",
       "       [0.0, 1.0, 0.0, 119943.24, 156547.42, 256512.92],\n",
       "       [0.0, 0.0, 1.0, 114523.61, 122616.84, 261776.23],\n",
       "       [1.0, 0.0, 0.0, 78013.11, 121597.55, 264346.06],\n",
       "       [0.0, 0.0, 1.0, 94657.16, 145077.58, 282574.31],\n",
       "       [0.0, 1.0, 0.0, 91749.16, 114175.79, 294919.57],\n",
       "       [0.0, 0.0, 1.0, 86419.7, 153514.11, 0.0],\n",
       "       [1.0, 0.0, 0.0, 76253.86, 113867.3, 298664.47],\n",
       "       [0.0, 0.0, 1.0, 78389.47, 153773.43, 299737.29],\n",
       "       [0.0, 1.0, 0.0, 73994.56, 122782.75, 303319.26],\n",
       "       [0.0, 1.0, 0.0, 67532.53, 105751.03, 304768.73],\n",
       "       [0.0, 0.0, 1.0, 77044.01, 99281.34, 140574.81],\n",
       "       [1.0, 0.0, 0.0, 64664.71, 139553.16, 137962.62],\n",
       "       [0.0, 1.0, 0.0, 75328.87, 144135.98, 134050.07],\n",
       "       [0.0, 0.0, 1.0, 72107.6, 127864.55, 353183.81],\n",
       "       [0.0, 1.0, 0.0, 66051.52, 182645.56, 118148.2],\n",
       "       [0.0, 0.0, 1.0, 65605.48, 153032.06, 107138.38],\n",
       "       [0.0, 1.0, 0.0, 61994.48, 115641.28, 91131.24],\n",
       "       [0.0, 0.0, 1.0, 61136.38, 152701.92, 88218.23],\n",
       "       [1.0, 0.0, 0.0, 63408.86, 129219.61, 46085.25],\n",
       "       [0.0, 1.0, 0.0, 55493.95, 103057.49, 214634.81],\n",
       "       [1.0, 0.0, 0.0, 46426.07, 157693.92, 210797.67],\n",
       "       [0.0, 0.0, 1.0, 46014.02, 85047.44, 205517.64],\n",
       "       [0.0, 1.0, 0.0, 28663.76, 127056.21, 201126.82],\n",
       "       [1.0, 0.0, 0.0, 44069.95, 51283.14, 197029.42],\n",
       "       [0.0, 0.0, 1.0, 20229.59, 65947.93, 185265.1],\n",
       "       [1.0, 0.0, 0.0, 38558.51, 82982.09, 174999.3],\n",
       "       [1.0, 0.0, 0.0, 28754.33, 118546.05, 172795.67],\n",
       "       [0.0, 1.0, 0.0, 27892.92, 84710.77, 164470.71],\n",
       "       [1.0, 0.0, 0.0, 23640.93, 96189.63, 148001.11],\n",
       "       [0.0, 0.0, 1.0, 15505.73, 127382.3, 35534.17],\n",
       "       [1.0, 0.0, 0.0, 22177.74, 154806.14, 28334.72],\n",
       "       [0.0, 0.0, 1.0, 1000.23, 124153.04, 1903.93],\n",
       "       [0.0, 1.0, 0.0, 1315.46, 115816.21, 297114.46],\n",
       "       [1.0, 0.0, 0.0, 0.0, 135426.92, 0.0],\n",
       "       [0.0, 0.0, 1.0, 542.05, 51743.15, 0.0],\n",
       "       [1.0, 0.0, 0.0, 0.0, 116983.8, 45173.06]], dtype=object)"
      ]
     },
     "execution_count": 9,
     "metadata": {},
     "output_type": "execute_result"
    }
   ],
   "source": [
    "X"
   ]
  },
  {
   "cell_type": "code",
   "execution_count": 10,
   "metadata": {
    "cell_id": "e74196a2842c4638b2527399f7a7cac9",
    "deepnote_cell_type": "code",
    "deepnote_to_be_reexecuted": false,
    "execution_millis": 44,
    "execution_start": 1671664827591,
    "source_hash": "746a4dbc",
    "tags": []
   },
   "outputs": [],
   "source": [
    "from sklearn.model_selection import train_test_split"
   ]
  },
  {
   "cell_type": "code",
   "execution_count": 11,
   "metadata": {
    "cell_id": "f8b6634c2fd74fccb547fbbc70ddb60f",
    "deepnote_cell_type": "code",
    "deepnote_to_be_reexecuted": false,
    "execution_millis": 6,
    "execution_start": 1671664827642,
    "source_hash": "6d0efa39",
    "tags": []
   },
   "outputs": [],
   "source": [
    "X_train, X_test, y_train, y_test = train_test_split(X, y, test_size=0.2, random_state=0)"
   ]
  },
  {
   "cell_type": "code",
   "execution_count": 12,
   "metadata": {
    "cell_id": "37beb22438ac44bda24b0ad50349be24",
    "deepnote_cell_type": "code",
    "deepnote_to_be_reexecuted": false,
    "execution_millis": 3,
    "execution_start": 1671664827651,
    "source_hash": "866b8212",
    "tags": []
   },
   "outputs": [],
   "source": [
    "from sklearn.preprocessing import StandardScaler"
   ]
  },
  {
   "cell_type": "code",
   "execution_count": 13,
   "metadata": {
    "cell_id": "d664d543ad3347839d06ee85168d0ee8",
    "deepnote_cell_type": "code",
    "deepnote_to_be_reexecuted": false,
    "execution_millis": 0,
    "execution_start": 1671664827681,
    "source_hash": "b2162770",
    "tags": []
   },
   "outputs": [],
   "source": [
    "scaler = StandardScaler()\n",
    "scaler.fit(X_train[:, -3:])\n",
    "X_train[:, -3:] = scaler.transform(X_train[:, -3:])\n",
    "X_test[:, -3:] = scaler.transform(X_test[:, -3:])"
   ]
  },
  {
   "cell_type": "code",
   "execution_count": 14,
   "metadata": {
    "cell_id": "df4197f4c76b47e997e6c9ec7acaccd3",
    "deepnote_cell_type": "code",
    "deepnote_to_be_reexecuted": false,
    "execution_millis": 2,
    "execution_start": 1671664827682,
    "source_hash": "d65cf08f",
    "tags": []
   },
   "outputs": [
    {
     "data": {
      "text/plain": [
       "array([[0.0, 1.0, 0.0, -0.12149520306216502, 2.2889053032012234,\n",
       "        -0.6803228661410794],\n",
       "       [1.0, 0.0, 0.0, 0.6280306007656555, -1.2206949887864658,\n",
       "        0.38557773677354845],\n",
       "       [0.0, 1.0, 0.0, 0.6549006077802048, -0.49434194923946795,\n",
       "        0.21885524294941494],\n",
       "       [0.0, 1.0, 0.0, -0.947621483893497, -1.494179356244993,\n",
       "        -0.30512103616996794],\n",
       "       [0.0, 1.0, 0.0, 1.770481112122021, -0.8593266741758989,\n",
       "        1.666880795073106],\n",
       "       [0.0, 0.0, 1.0, 0.009617753042540427, 0.17279111579172604,\n",
       "        1.2234122937277723],\n",
       "       [0.0, 0.0, 1.0, -1.1135310904221214, -2.218961756571209,\n",
       "        -0.13669119113063422],\n",
       "       [0.0, 0.0, 1.0, -0.22790702970059823, 1.1322241571857976,\n",
       "        -0.922748838200462],\n",
       "       [0.0, 1.0, 0.0, 0.0504700706558041, -0.023511746780132174,\n",
       "        0.819520742715403],\n",
       "       [0.0, 1.0, 0.0, 1.5250985323520592, -1.2361016229924873,\n",
       "        1.3285846911963288]], dtype=object)"
      ]
     },
     "execution_count": 14,
     "metadata": {},
     "output_type": "execute_result"
    }
   ],
   "source": [
    "X_test"
   ]
  },
  {
   "cell_type": "code",
   "execution_count": 15,
   "metadata": {
    "cell_id": "80bf5f4b9cc54fc7a1e2815002d291ec",
    "deepnote_cell_type": "code",
    "deepnote_to_be_reexecuted": false,
    "execution_millis": 3,
    "execution_start": 1671664827683,
    "source_hash": "b98e27fa",
    "tags": []
   },
   "outputs": [
    {
     "data": {
      "text/plain": [
       "array([[0.0, 1.0, 0.0, -0.3500645436227844, -0.7854710924793271,\n",
       "        0.1011968019362538],\n",
       "       [0.0, 0.0, 1.0, -0.555303187426314, -1.481174262628151,\n",
       "        0.02734979174277092],\n",
       "       [0.0, 1.0, 0.0, 0.07935762307586282, 0.8013338146656704,\n",
       "        -0.551521323997471],\n",
       "       [1.0, 0.0, 0.0, -0.5463823849331263, 1.3250581707161837,\n",
       "        0.07011683779235604],\n",
       "       [0.0, 1.0, 0.0, 0.4348537132854595, -0.3559866348200946,\n",
       "        0.7514851578736048],\n",
       "       [0.0, 1.0, 0.0, 1.2694314288195354, 0.855185185174973,\n",
       "        0.986031184474382],\n",
       "       [0.0, 1.0, 0.0, 1.045250070905001, 1.2807704710942711,\n",
       "        0.44039999942558483],\n",
       "       [0.0, 0.0, 1.0, -1.529843000700978, 0.029420649133439825,\n",
       "        -1.6218751012780783],\n",
       "       [0.0, 0.0, 1.0, -1.5397625087372082, -2.767672641730695,\n",
       "        -1.6372965026688253],\n",
       "       [0.0, 0.0, 1.0, -0.13115188245559178, 1.144977005989267,\n",
       "        -0.7694999122824163],\n",
       "       [0.0, 0.0, 1.0, 0.927916133722245, -0.029920619212990152,\n",
       "        0.4830316172654914],\n",
       "       [0.0, 1.0, 0.0, -0.20932933131592557, -0.29937679537926,\n",
       "        -0.8991541175619614],\n",
       "       [1.0, 0.0, 0.0, -0.17870827894287686, 0.2251351979981532,\n",
       "        -1.2640164249123271],\n",
       "       [1.0, 0.0, 0.0, 0.13747089788308053, -0.06929437355020689,\n",
       "        0.5038466577007928],\n",
       "       [1.0, 0.0, 0.0, -1.0396762417942589, -1.0507669675123394,\n",
       "        -0.43852106261266766],\n",
       "       [1.0, 0.0, 0.0, 0.09938347697265615, -0.3679031742499798,\n",
       "        0.7818179989277446],\n",
       "       [0.0, 0.0, 1.0, -1.2158017422009575, 0.15416246935241742,\n",
       "        -1.3494777810472085],\n",
       "       [0.0, 0.0, 1.0, 1.0582243665441649, 0.9783675684696275,\n",
       "        0.8867005055096748],\n",
       "       [1.0, 0.0, 0.0, 0.4401195955580429, 0.4675474853678242,\n",
       "        0.40923215274131525],\n",
       "       [1.0, 0.0, 0.0, -0.15151937028841816, 0.6243058551529852,\n",
       "        -0.5198305559485576],\n",
       "       [0.0, 0.0, 1.0, 1.303611492773351, -0.9107351714849491,\n",
       "        1.3017982548865463],\n",
       "       [0.0, 0.0, 1.0, 0.49781134864570625, 0.837706512410103,\n",
       "        0.6514913504683245],\n",
       "       [1.0, 0.0, 0.0, -0.9289721246515195, -0.1871695723258425,\n",
       "        -0.23769074738733695],\n",
       "       [1.0, 0.0, 0.0, -1.5514977859885914, -0.24751711592316733,\n",
       "        -1.2714049571244492],\n",
       "       [1.0, 0.0, 0.0, 1.968710847785411, 1.0810671321179492,\n",
       "        1.9581809612571657],\n",
       "       [0.0, 1.0, 0.0, 0.48063417620032334, 0.1517705859153579,\n",
       "        0.3863463242625676],\n",
       "       [1.0, 0.0, 0.0, -0.5973919254506589, -2.7854421879174165,\n",
       "        -0.04140286602981931],\n",
       "       [0.0, 0.0, 1.0, 0.11649007105102568, -0.9313385123897375,\n",
       "        -0.49867240911600824],\n",
       "       [1.0, 0.0, 0.0, 1.3629007850333776, 0.9196489932918887,\n",
       "        -0.6028192132885423],\n",
       "       [0.0, 1.0, 0.0, -0.08943162412651208, -0.6814233903950654,\n",
       "        0.8312611211294444],\n",
       "       [0.0, 1.0, 0.0, -0.9309329475657485, 0.14156606641329023,\n",
       "        -0.008214854885267122],\n",
       "       [0.0, 0.0, 1.0, 0.14561901880611441, 1.173615097457821,\n",
       "        0.790507597726031],\n",
       "       [0.0, 0.0, 1.0, 0.31947193909459937, 1.1635979267068792,\n",
       "        -1.6372965026688253],\n",
       "       [1.0, 0.0, 0.0, 1.1186784183579679, -0.5683134167614787,\n",
       "        0.8329854818685873],\n",
       "       [1.0, 0.0, 0.0, -0.7167135313068757, -1.5609558591515853,\n",
       "        -0.21984184393674172],\n",
       "       [0.0, 1.0, 0.0, -1.5230183324084707, -0.29261949289791545,\n",
       "        0.7692632693055047],\n",
       "       [0.0, 0.0, 1.0, 1.5741368580485635, -0.1823100933791031,\n",
       "        1.4665335503277532],\n",
       "       [0.0, 0.0, 1.0, 2.0282802885329074, 0.5217329933404754,\n",
       "        2.184047756769488],\n",
       "       [1.0, 0.0, 0.0, -1.5514977859885914, 0.46491494569993663,\n",
       "        -1.6372965026688253],\n",
       "       [1.0, 0.0, 0.0, -1.0713540211899808, 1.2135072477208355,\n",
       "        -1.4077916939760526]], dtype=object)"
      ]
     },
     "execution_count": 15,
     "metadata": {},
     "output_type": "execute_result"
    }
   ],
   "source": [
    "X_train"
   ]
  },
  {
   "cell_type": "code",
   "execution_count": 16,
   "metadata": {
    "cell_id": "4baddaa9f87847b6b1cde3c95628ab47",
    "deepnote_cell_type": "code",
    "deepnote_to_be_reexecuted": false,
    "execution_millis": 46,
    "execution_start": 1671664827729,
    "source_hash": "54f441a9",
    "tags": []
   },
   "outputs": [
    {
     "data": {
      "text/html": [
       "<style>#sk-container-id-1 {color: black;background-color: white;}#sk-container-id-1 pre{padding: 0;}#sk-container-id-1 div.sk-toggleable {background-color: white;}#sk-container-id-1 label.sk-toggleable__label {cursor: pointer;display: block;width: 100%;margin-bottom: 0;padding: 0.3em;box-sizing: border-box;text-align: center;}#sk-container-id-1 label.sk-toggleable__label-arrow:before {content: \"▸\";float: left;margin-right: 0.25em;color: #696969;}#sk-container-id-1 label.sk-toggleable__label-arrow:hover:before {color: black;}#sk-container-id-1 div.sk-estimator:hover label.sk-toggleable__label-arrow:before {color: black;}#sk-container-id-1 div.sk-toggleable__content {max-height: 0;max-width: 0;overflow: hidden;text-align: left;background-color: #f0f8ff;}#sk-container-id-1 div.sk-toggleable__content pre {margin: 0.2em;color: black;border-radius: 0.25em;background-color: #f0f8ff;}#sk-container-id-1 input.sk-toggleable__control:checked~div.sk-toggleable__content {max-height: 200px;max-width: 100%;overflow: auto;}#sk-container-id-1 input.sk-toggleable__control:checked~label.sk-toggleable__label-arrow:before {content: \"▾\";}#sk-container-id-1 div.sk-estimator input.sk-toggleable__control:checked~label.sk-toggleable__label {background-color: #d4ebff;}#sk-container-id-1 div.sk-label input.sk-toggleable__control:checked~label.sk-toggleable__label {background-color: #d4ebff;}#sk-container-id-1 input.sk-hidden--visually {border: 0;clip: rect(1px 1px 1px 1px);clip: rect(1px, 1px, 1px, 1px);height: 1px;margin: -1px;overflow: hidden;padding: 0;position: absolute;width: 1px;}#sk-container-id-1 div.sk-estimator {font-family: monospace;background-color: #f0f8ff;border: 1px dotted black;border-radius: 0.25em;box-sizing: border-box;margin-bottom: 0.5em;}#sk-container-id-1 div.sk-estimator:hover {background-color: #d4ebff;}#sk-container-id-1 div.sk-parallel-item::after {content: \"\";width: 100%;border-bottom: 1px solid gray;flex-grow: 1;}#sk-container-id-1 div.sk-label:hover label.sk-toggleable__label {background-color: #d4ebff;}#sk-container-id-1 div.sk-serial::before {content: \"\";position: absolute;border-left: 1px solid gray;box-sizing: border-box;top: 0;bottom: 0;left: 50%;z-index: 0;}#sk-container-id-1 div.sk-serial {display: flex;flex-direction: column;align-items: center;background-color: white;padding-right: 0.2em;padding-left: 0.2em;position: relative;}#sk-container-id-1 div.sk-item {position: relative;z-index: 1;}#sk-container-id-1 div.sk-parallel {display: flex;align-items: stretch;justify-content: center;background-color: white;position: relative;}#sk-container-id-1 div.sk-item::before, #sk-container-id-1 div.sk-parallel-item::before {content: \"\";position: absolute;border-left: 1px solid gray;box-sizing: border-box;top: 0;bottom: 0;left: 50%;z-index: -1;}#sk-container-id-1 div.sk-parallel-item {display: flex;flex-direction: column;z-index: 1;position: relative;background-color: white;}#sk-container-id-1 div.sk-parallel-item:first-child::after {align-self: flex-end;width: 50%;}#sk-container-id-1 div.sk-parallel-item:last-child::after {align-self: flex-start;width: 50%;}#sk-container-id-1 div.sk-parallel-item:only-child::after {width: 0;}#sk-container-id-1 div.sk-dashed-wrapped {border: 1px dashed gray;margin: 0 0.4em 0.5em 0.4em;box-sizing: border-box;padding-bottom: 0.4em;background-color: white;}#sk-container-id-1 div.sk-label label {font-family: monospace;font-weight: bold;display: inline-block;line-height: 1.2em;}#sk-container-id-1 div.sk-label-container {text-align: center;}#sk-container-id-1 div.sk-container {/* jupyter's `normalize.less` sets `[hidden] { display: none; }` but bootstrap.min.css set `[hidden] { display: none !important; }` so we also need the `!important` here to be able to override the default hidden behavior on the sphinx rendered scikit-learn.org. See: https://github.com/scikit-learn/scikit-learn/issues/21755 */display: inline-block !important;position: relative;}#sk-container-id-1 div.sk-text-repr-fallback {display: none;}</style><div id=\"sk-container-id-1\" class=\"sk-top-container\"><div class=\"sk-text-repr-fallback\"><pre>LinearRegression()</pre><b>In a Jupyter environment, please rerun this cell to show the HTML representation or trust the notebook. <br />On GitHub, the HTML representation is unable to render, please try loading this page with nbviewer.org.</b></div><div class=\"sk-container\" hidden><div class=\"sk-item\"><div class=\"sk-estimator sk-toggleable\"><input class=\"sk-toggleable__control sk-hidden--visually\" id=\"sk-estimator-id-1\" type=\"checkbox\" checked><label for=\"sk-estimator-id-1\" class=\"sk-toggleable__label sk-toggleable__label-arrow\">LinearRegression</label><div class=\"sk-toggleable__content\"><pre>LinearRegression()</pre></div></div></div></div></div>"
      ],
      "text/plain": [
       "LinearRegression()"
      ]
     },
     "execution_count": 16,
     "metadata": {},
     "output_type": "execute_result"
    }
   ],
   "source": [
    "from sklearn.linear_model import LinearRegression\n",
    "\n",
    "regressor = LinearRegression()\n",
    "regressor.fit(X_train, y_train)"
   ]
  },
  {
   "cell_type": "code",
   "execution_count": 17,
   "metadata": {
    "cell_id": "a2932bb57b2c4b8cb731c83027696cf3",
    "deepnote_cell_type": "code",
    "deepnote_to_be_reexecuted": false,
    "execution_millis": 1,
    "execution_start": 1671664859693,
    "source_hash": "b411cb01",
    "tags": []
   },
   "outputs": [],
   "source": [
    "y_pred = regressor.predict(X_test)"
   ]
  },
  {
   "cell_type": "code",
   "execution_count": 18,
   "metadata": {
    "cell_id": "bd375b97ec0f46f9bbf25ecc452c3a03",
    "deepnote_cell_type": "code",
    "deepnote_to_be_reexecuted": false,
    "execution_millis": 8,
    "execution_start": 1671664865522,
    "source_hash": "d696aa0b",
    "tags": []
   },
   "outputs": [
    {
     "data": {
      "text/plain": [
       "array([[103282.38],\n",
       "       [144259.4 ],\n",
       "       [146121.95],\n",
       "       [ 77798.83],\n",
       "       [191050.39],\n",
       "       [105008.31],\n",
       "       [ 81229.06],\n",
       "       [ 97483.56],\n",
       "       [110352.25],\n",
       "       [166187.94]])"
      ]
     },
     "execution_count": 18,
     "metadata": {},
     "output_type": "execute_result"
    }
   ],
   "source": [
    "y_test"
   ]
  },
  {
   "cell_type": "code",
   "execution_count": 19,
   "metadata": {
    "cell_id": "4c1c101a0b9743a99665be4f117d67b6",
    "deepnote_cell_type": "code",
    "deepnote_to_be_reexecuted": false,
    "execution_millis": 6,
    "execution_start": 1671664873229,
    "source_hash": "ba549d12",
    "tags": []
   },
   "outputs": [
    {
     "data": {
      "text/plain": [
       "array([[103015.20159796],\n",
       "       [132582.27760816],\n",
       "       [132447.73845174],\n",
       "       [ 71976.09851258],\n",
       "       [178537.48221055],\n",
       "       [116161.24230165],\n",
       "       [ 67851.69209676],\n",
       "       [ 98791.73374687],\n",
       "       [113969.43533012],\n",
       "       [167921.0656955 ]])"
      ]
     },
     "execution_count": 19,
     "metadata": {},
     "output_type": "execute_result"
    }
   ],
   "source": [
    "y_pred"
   ]
  },
  {
   "cell_type": "code",
   "execution_count": null,
   "metadata": {
    "cell_id": "eb4790c39bb641458cca480bb85a8209",
    "deepnote_cell_type": "code",
    "tags": []
   },
   "outputs": [],
   "source": []
  },
  {
   "cell_type": "markdown",
   "metadata": {
    "created_in_deepnote_cell": true,
    "deepnote_cell_type": "markdown",
    "tags": []
   },
   "source": [
    "<a style='text-decoration:none;line-height:16px;display:flex;color:#5B5B62;padding:10px;justify-content:end;' href='https://deepnote.com?utm_source=created-in-deepnote-cell&projectId=57d5770d-d68f-47c5-bc32-65c81e0e368b' target=\"_blank\">\n",
    "<img alt='Created in deepnote.com' style='display:inline;max-height:16px;margin:0px;margin-right:7.5px;' src='data:image/svg+xml;base64,PD94bWwgdmVyc2lvbj0iMS4wIiBlbmNvZGluZz0iVVRGLTgiPz4KPHN2ZyB3aWR0aD0iODBweCIgaGVpZ2h0PSI4MHB4IiB2aWV3Qm94PSIwIDAgODAgODAiIHZlcnNpb249IjEuMSIgeG1sbnM9Imh0dHA6Ly93d3cudzMub3JnLzIwMDAvc3ZnIiB4bWxuczp4bGluaz0iaHR0cDovL3d3dy53My5vcmcvMTk5OS94bGluayI+CiAgICA8IS0tIEdlbmVyYXRvcjogU2tldGNoIDU0LjEgKDc2NDkwKSAtIGh0dHBzOi8vc2tldGNoYXBwLmNvbSAtLT4KICAgIDx0aXRsZT5Hcm91cCAzPC90aXRsZT4KICAgIDxkZXNjPkNyZWF0ZWQgd2l0aCBTa2V0Y2guPC9kZXNjPgogICAgPGcgaWQ9IkxhbmRpbmciIHN0cm9rZT0ibm9uZSIgc3Ryb2tlLXdpZHRoPSIxIiBmaWxsPSJub25lIiBmaWxsLXJ1bGU9ImV2ZW5vZGQiPgogICAgICAgIDxnIGlkPSJBcnRib2FyZCIgdHJhbnNmb3JtPSJ0cmFuc2xhdGUoLTEyMzUuMDAwMDAwLCAtNzkuMDAwMDAwKSI+CiAgICAgICAgICAgIDxnIGlkPSJHcm91cC0zIiB0cmFuc2Zvcm09InRyYW5zbGF0ZSgxMjM1LjAwMDAwMCwgNzkuMDAwMDAwKSI+CiAgICAgICAgICAgICAgICA8cG9seWdvbiBpZD0iUGF0aC0yMCIgZmlsbD0iIzAyNjVCNCIgcG9pbnRzPSIyLjM3NjIzNzYyIDgwIDM4LjA0NzY2NjcgODAgNTcuODIxNzgyMiA3My44MDU3NTkyIDU3LjgyMTc4MjIgMzIuNzU5MjczOSAzOS4xNDAyMjc4IDMxLjY4MzE2ODMiPjwvcG9seWdvbj4KICAgICAgICAgICAgICAgIDxwYXRoIGQ9Ik0zNS4wMDc3MTgsODAgQzQyLjkwNjIwMDcsNzYuNDU0OTM1OCA0Ny41NjQ5MTY3LDcxLjU0MjI2NzEgNDguOTgzODY2LDY1LjI2MTk5MzkgQzUxLjExMjI4OTksNTUuODQxNTg0MiA0MS42NzcxNzk1LDQ5LjIxMjIyODQgMjUuNjIzOTg0Niw0OS4yMTIyMjg0IEMyNS40ODQ5Mjg5LDQ5LjEyNjg0NDggMjkuODI2MTI5Niw0My4yODM4MjQ4IDM4LjY0NzU4NjksMzEuNjgzMTY4MyBMNzIuODcxMjg3MSwzMi41NTQ0MjUgTDY1LjI4MDk3Myw2Ny42NzYzNDIxIEw1MS4xMTIyODk5LDc3LjM3NjE0NCBMMzUuMDA3NzE4LDgwIFoiIGlkPSJQYXRoLTIyIiBmaWxsPSIjMDAyODY4Ij48L3BhdGg+CiAgICAgICAgICAgICAgICA8cGF0aCBkPSJNMCwzNy43MzA0NDA1IEwyNy4xMTQ1MzcsMC4yNTcxMTE0MzYgQzYyLjM3MTUxMjMsLTEuOTkwNzE3MDEgODAsMTAuNTAwMzkyNyA4MCwzNy43MzA0NDA1IEM4MCw2NC45NjA0ODgyIDY0Ljc3NjUwMzgsNzkuMDUwMzQxNCAzNC4zMjk1MTEzLDgwIEM0Ny4wNTUzNDg5LDc3LjU2NzA4MDggNTMuNDE4MjY3Nyw3MC4zMTM2MTAzIDUzLjQxODI2NzcsNTguMjM5NTg4NSBDNTMuNDE4MjY3Nyw0MC4xMjg1NTU3IDM2LjMwMzk1NDQsMzcuNzMwNDQwNSAyNS4yMjc0MTcsMzcuNzMwNDQwNSBDMTcuODQzMDU4NiwzNy43MzA0NDA1IDkuNDMzOTE5NjYsMzcuNzMwNDQwNSAwLDM3LjczMDQ0MDUgWiIgaWQ9IlBhdGgtMTkiIGZpbGw9IiMzNzkzRUYiPjwvcGF0aD4KICAgICAgICAgICAgPC9nPgogICAgICAgIDwvZz4KICAgIDwvZz4KPC9zdmc+' > </img>\n",
    "Created in <span style='font-weight:600;margin-left:4px;'>Deepnote</span></a>"
   ]
  }
 ],
 "metadata": {
  "deepnote": {},
  "deepnote_execution_queue": [],
  "deepnote_notebook_id": "e319d7eb8f0f4ff2af25525c534d8495",
  "kernelspec": {
   "display_name": "Python 3 (ipykernel)",
   "language": "python",
   "name": "python3"
  },
  "language_info": {
   "codemirror_mode": {
    "name": "ipython",
    "version": 3
   },
   "file_extension": ".py",
   "mimetype": "text/x-python",
   "name": "python",
   "nbconvert_exporter": "python",
   "pygments_lexer": "ipython3",
   "version": "3.9.13"
  }
 },
 "nbformat": 4,
 "nbformat_minor": 1
}
